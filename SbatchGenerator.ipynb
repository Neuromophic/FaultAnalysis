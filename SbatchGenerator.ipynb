{
 "cells": [
  {
   "cell_type": "code",
   "execution_count": 1,
   "id": "d3709013-e2ef-4ee7-8e7d-a1f21cf476fd",
   "metadata": {},
   "outputs": [],
   "source": [
    "def WriteHeader(f, TaskName):\n",
    "    f.write(\"#!/bin/bash\\n\\n\")\n",
    "    f.write(\"#SBATCH --partition=single\\n\")\n",
    "    f.write(\"#SBATCH --ntasks-per-node=40\\n\")\n",
    "    f.write(\"#SBATCH --time=72:00:00\\n\")\n",
    "    f.write(f\"#SBATCH --job-name={TaskName}\\n\")\n",
    "    f.write(\"#SBATCH --error=%x.%j.err\\n\")\n",
    "    f.write(\"#SBATCH --output=%x.%j.out\\n\")\n",
    "    f.write(\"#SBATCH --mail-user=hzhao@teco.edu\\n\\n\")"
   ]
  },
  {
   "cell_type": "code",
   "execution_count": 3,
   "id": "1b77015c-5e19-420e-950c-c09d7316493b",
   "metadata": {
    "tags": []
   },
   "outputs": [],
   "source": [
    "def write_jobs(f, job_counter, epsilon, ds, seed):\n",
    "    line = f'python3 experiment.py --DATASET {ds:02d} --SEED {seed:02d} --e_train {epsilon} --projectname FaultAnalysis &\\n'\n",
    "    f.write(line)\n",
    "    job_counter += 1\n",
    "    return job_counter\n",
    "\n",
    "job_counter = 0\n",
    "file_counter = 1\n",
    "\n",
    "for epsilon in [0., 0.05, 0.1]:\n",
    "    # Open the first file for the current epsilon\n",
    "    f = open(f'run_baseline_pNN_{epsilon}_{file_counter}.sh', 'w')\n",
    "    WriteHeader(f, f'pNN{epsilon}')\n",
    "\n",
    "    for ds in range(13):\n",
    "        for seed in range(10):\n",
    "            if job_counter >= 40:\n",
    "                # Close the current file and reset the job counter\n",
    "                f.write(\"\\nwait\\n\")\n",
    "                f.close()\n",
    "                file_counter += 1\n",
    "                job_counter = 0\n",
    "                \n",
    "                # Open a new file\n",
    "                f = open(f'run_baseline_pNN_{epsilon}_{file_counter}.sh', 'w')\n",
    "                WriteHeader(f, f'pNN{epsilon}')\n",
    "            \n",
    "            job_counter = write_jobs(f, job_counter, epsilon, ds, seed)\n",
    "\n",
    "    # If the loop exits but there are still jobs that haven't been written to a closed file\n",
    "    if not f.closed:\n",
    "        f.write(\"\\nwait\\n\")\n",
    "        f.close()\n",
    "        job_counter = 0  # Reset the job counter for the next epsilon\n",
    "        file_counter = 1  # Reset file counter for the next epsilon\n"
   ]
  }
 ],
 "metadata": {
  "kernelspec": {
   "display_name": "ML",
   "language": "python",
   "name": "python3"
  },
  "language_info": {
   "codemirror_mode": {
    "name": "ipython",
    "version": 3
   },
   "file_extension": ".py",
   "mimetype": "text/x-python",
   "name": "python",
   "nbconvert_exporter": "python",
   "pygments_lexer": "ipython3",
   "version": "3.8.13"
  }
 },
 "nbformat": 4,
 "nbformat_minor": 5
}
